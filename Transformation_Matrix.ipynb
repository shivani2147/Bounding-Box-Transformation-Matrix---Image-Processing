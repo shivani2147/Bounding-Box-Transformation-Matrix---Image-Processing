{
 "cells": [
  {
   "cell_type": "code",
   "execution_count": 1,
   "id": "189e48c1",
   "metadata": {},
   "outputs": [
    {
     "name": "stdout",
     "output_type": "stream",
     "text": [
      "Enter the x-coordinate of the top-left corner: 100\n",
      "Enter the y-coordinate of the top-left corner: 200\n",
      "Enter the x-coordinate of the bottom-right corner: 300\n",
      "Enter the y-coordinate of the bottom-right corner: 400\n"
     ]
    },
    {
     "data": {
      "text/plain": [
       "True"
      ]
     },
     "execution_count": 1,
     "metadata": {},
     "output_type": "execute_result"
    }
   ],
   "source": [
    "import cv2\n",
    "import numpy as np\n",
    "\n",
    "# Load the image\n",
    "img = cv2.imread(\"D:\\Images\\cat.jpg\")\n",
    "\n",
    "# Resize the image\n",
    "img = cv2.resize(img, (640, 480))\n",
    "\n",
    "# Get the start and end points from the user\n",
    "start_x = int(input(\"Enter the x-coordinate of the top-left corner: \"))\n",
    "start_y = int(input(\"Enter the y-coordinate of the top-left corner: \"))\n",
    "end_x = int(input(\"Enter the x-coordinate of the bottom-right corner: \"))\n",
    "end_y = int(input(\"Enter the y-coordinate of the bottom-right corner: \"))\n",
    "\n",
    "# Define the coordinates of the rectangle\n",
    "start_coordinate = (start_x, start_y)\n",
    "end_coordinate = (end_x, end_y)\n",
    "\n",
    "# Draw the rectangle on the image\n",
    "cv2.rectangle(img, start_coordinate, end_coordinate, (0, 0, 255), 2)\n",
    "\n",
    "# Apply matrix transformation to the image\n",
    "width, height = img.shape[:2]                  #(480, 640, 3)\n",
    "matrix = np.float32([[1, 0, 50], [0, 1, 50]]) \n",
    "         # [1, 0, 50] --> Move everything horizontally (left or right) by 50 steps. \n",
    "         # [0, 1, 50] --> Move everything vertically (up or down) by 50 steps. \n",
    "img_transformed = cv2.warpAffine(img, matrix, (width, height))\n",
    "    # cv2.warpAffine: This is the function that does the adjustment, just like shifting, rotating, or resizing \n",
    "\n",
    "# Display the image\n",
    "cv2.imshow('Cat', img_transformed)\n",
    "cv2.waitKey(0)\n",
    "cv2.destroyAllWindows()\n",
    "\n",
    "# Save the original & transformed image to a file\n",
    "cv2.imwrite(\"Cat.jpg\", img)\n",
    "cv2.imwrite(\"Transformed_Cat.jpg\", img_transformed)"
   ]
  },
  {
   "cell_type": "code",
   "execution_count": null,
   "id": "ec842113",
   "metadata": {},
   "outputs": [],
   "source": []
  }
 ],
 "metadata": {
  "kernelspec": {
   "display_name": "YOLO",
   "language": "python",
   "name": "yolo"
  },
  "language_info": {
   "codemirror_mode": {
    "name": "ipython",
    "version": 3
   },
   "file_extension": ".py",
   "mimetype": "text/x-python",
   "name": "python",
   "nbconvert_exporter": "python",
   "pygments_lexer": "ipython3",
   "version": "3.11.2"
  }
 },
 "nbformat": 4,
 "nbformat_minor": 5
}
